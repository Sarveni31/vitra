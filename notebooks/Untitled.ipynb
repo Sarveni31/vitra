{
 "cells": [
  {
   "cell_type": "code",
   "execution_count": 1,
   "id": "725f9757-87b2-4805-a1a3-373cdef97582",
   "metadata": {},
   "outputs": [],
   "source": [
    "import pandas as pd\n",
    "from sklearn.ensemble import RandomForestClassifier\n",
    "from sklearn.preprocessing import StandardScaler\n",
    "from sklearn.model_selection import train_test_split\n",
    "from joblib import dump"
   ]
  },
  {
   "cell_type": "code",
   "execution_count": 9,
   "id": "a934bcec-91e0-4c41-90c1-1ea35a187b13",
   "metadata": {},
   "outputs": [
    {
     "name": "stdout",
     "output_type": "stream",
     "text": [
      "['Hemoglobin (Hb)', 'Serum Ferritin', 'RBC Count', 'MCV', 'MCH', 'MCHC', 'Reticulocyte Count', 'LDH', 'Transfusion History', 'Splenectomy Status', 'Heart Rate (BPM)', 'Blood Pressure (BP)', 'Oxygen Saturation (SpO2)', 'Body Temperature', 'Weight (kg)', 'Height (cm)', 'Age', 'Gender', 'Geographical Location', 'Family History', 'Compliance to Therapy', 'Future_Hb', 'Anemia_Risk']\n"
     ]
    }
   ],
   "source": [
    "df = pd.read_csv(\"../data/patient_dataset.csv\")\n",
    "print(df.columns.tolist())\n",
    "df['Transfusion Count'] = df['Transfusion History'].str.extract(r'(\\d+)').astype(float)"
   ]
  },
  {
   "cell_type": "code",
   "execution_count": 10,
   "id": "2223a9ea-dae2-4037-84aa-a5b86359b3f4",
   "metadata": {},
   "outputs": [],
   "source": [
    "df['Future_Hb'] = df['Hemoglobin (Hb)'].shift(-1)\n",
    "df.dropna(inplace=True)\n",
    "df['Anemia_Risk'] = df['Future_Hb'] < 8"
   ]
  },
  {
   "cell_type": "code",
   "execution_count": 5,
   "id": "55be54f9-b4ab-4ff8-8471-ea3ae2ab8b46",
   "metadata": {},
   "outputs": [],
   "source": [
    "features = [\n",
    "    'Hemoglobin (Hb)',\n",
    "    'Serum Ferritin',\n",
    "    'Transfusion Count',     # ✅ use the numeric one\n",
    "    'Compliance to Therapy',\n",
    "    'Heart Rate (BPM)',\n",
    "    'Oxygen Saturation (SpO2)',\n",
    "    'Age'\n",
    "]\n",
    "\n",
    "X = df[features]\n",
    "y = df['Anemia_Risk'].astype(int)\n"
   ]
  },
  {
   "cell_type": "code",
   "execution_count": 6,
   "id": "0082b122-344c-4c6c-8402-1914d1fe4d53",
   "metadata": {},
   "outputs": [],
   "source": [
    "scaler = StandardScaler()\n",
    "X_scaled = scaler.fit_transform(X)"
   ]
  },
  {
   "cell_type": "code",
   "execution_count": 7,
   "id": "06aa65c1-4ccd-4d33-8ee9-bd348f728ce9",
   "metadata": {},
   "outputs": [],
   "source": [
    "X_train, X_test, y_train, y_test = train_test_split(X_scaled, y, test_size=0.2, random_state=42)"
   ]
  },
  {
   "cell_type": "code",
   "execution_count": 8,
   "id": "efd19e86-92d4-4c87-b7fa-fcef292fb210",
   "metadata": {},
   "outputs": [
    {
     "name": "stdout",
     "output_type": "stream",
     "text": [
      "[1]\n"
     ]
    }
   ],
   "source": [
    "model = RandomForestClassifier()\n",
    "model.fit(X_train, y_train)\n",
    "print(model.classes_)  # It should show: [0, 1]"
   ]
  },
  {
   "cell_type": "code",
   "execution_count": 15,
   "id": "56c44261-79e5-4d41-a6ed-a97ed671dbbd",
   "metadata": {},
   "outputs": [
    {
     "data": {
      "text/plain": [
       "['../models/scaler.pkl']"
      ]
     },
     "execution_count": 15,
     "metadata": {},
     "output_type": "execute_result"
    }
   ],
   "source": [
    "dump(model, \"../models/anemia_predictor.pkl\")\n",
    "dump(scaler, \"../models/scaler.pkl\")"
   ]
  },
  {
   "cell_type": "code",
   "execution_count": null,
   "id": "ad7d7c6c-3b81-4f0a-9777-193704310f2c",
   "metadata": {},
   "outputs": [],
   "source": []
  }
 ],
 "metadata": {
  "kernelspec": {
   "display_name": "Python 3",
   "language": "python",
   "name": "python3"
  },
  "language_info": {
   "codemirror_mode": {
    "name": "ipython",
    "version": 3
   },
   "file_extension": ".py",
   "mimetype": "text/x-python",
   "name": "python",
   "nbconvert_exporter": "python",
   "pygments_lexer": "ipython3",
   "version": "3.13.5"
  }
 },
 "nbformat": 4,
 "nbformat_minor": 5
}
